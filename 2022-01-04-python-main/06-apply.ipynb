{
 "cells": [
  {
   "cell_type": "markdown",
   "id": "1f784a4b-0526-4229-bb35-cb1a31780794",
   "metadata": {},
   "source": [
    "## function"
   ]
  }
 ],
 "metadata": {
  "kernelspec": {
   "display_name": "Python 3 (ipykernel)",
   "language": "python",
   "name": "python3"
  },
  "language_info": {
   "codemirror_mode": {
    "name": "ipython",
    "version": 3
   },
   "file_extension": ".py",
   "mimetype": "text/x-python",
   "name": "python",
   "nbconvert_exporter": "python",
   "pygments_lexer": "ipython3",
   "version": "3.9.7"
  }
 },
 "nbformat": 4,
 "nbformat_minor": 5
}
